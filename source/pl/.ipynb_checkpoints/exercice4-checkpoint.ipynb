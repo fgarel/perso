{
 "cells": [
  {
   "cell_type": "code",
   "execution_count": 1,
   "metadata": {
    "collapsed": false
   },
   "outputs": [
    {
     "name": "stdout",
     "output_type": "stream",
     "text": [
      "6 5\n",
      "0 1 -1\n",
      "1 2 2\n",
      "3 4 1\n",
      "4 5 -1\n",
      "5 3 1\n"
     ]
    }
   ],
   "source": [
    "n, m = map(int, input().split())\n",
    "piste = [{\"x\": 0, \"y\": 0, \"l\": 0}] * n\n",
    "for i in range(m):\n",
    "    x, y, l = map(int, input().split())\n",
    "    piste[x] = {\"x\": x, \"y\": y, \"l\": l}"
   ]
  },
  {
   "cell_type": "code",
   "execution_count": 3,
   "metadata": {
    "collapsed": false
   },
   "outputs": [],
   "source": [
    "def maximise_ton_fun(n, m, piste):\n",
    "    lieu = 0\n",
    "    max_fun = piste[0][\"l\"]\n",
    "    fun = 0\n",
    "    boucle = 0\n",
    "    stations_visitees =[]\n",
    "    while True :\n",
    "        # fun à l'instant\n",
    "        fun += piste[lieu][\"l\"]\n",
    "        # fun max\n",
    "        if fun > max_fun :\n",
    "            max_fun = fun\n",
    "        stations_visitees.append(piste[lieu][\"x\"])\n",
    "        # quand ça commence à boucler :\n",
    "        if piste[lieu][\"y\"] in stations_visitees :\n",
    "            boucle = 1\n",
    "            break\n",
    "        # on repart si on ne boucle pas encore et que la destination a une piste\n",
    "        if piste[lieu][\"y\"] == piste[piste[lieu][\"y\"]][\"x\"] :\n",
    "            lieu = piste[lieu][\"y\"]\n",
    "        else :\n",
    "            break\n",
    "\n",
    "    if boucle == 1 :\n",
    "        fun = 0\n",
    "        lieu1 = piste[lieu][\"y\"]\n",
    "        while piste[lieu1][\"x\"] != piste[lieu][\"x\"] :\n",
    "            fun += piste[lieu1][\"l\"]\n",
    "            lieu1 = piste[lieu1][\"y\"]\n",
    "        fun += piste[lieu1][\"l\"]\n",
    "        if fun > 0 :\n",
    "            max_fun = \"OVERDOSE DE FUN\"\n",
    "    print(max_fun)\n"
   ]
  },
  {
   "cell_type": "code",
   "execution_count": 4,
   "metadata": {
    "collapsed": false
   },
   "outputs": [
    {
     "name": "stdout",
     "output_type": "stream",
     "text": [
      "1\n"
     ]
    }
   ],
   "source": [
    "maximise_ton_fun(n, m, piste)"
   ]
  },
  {
   "cell_type": "code",
   "execution_count": 9,
   "metadata": {
    "collapsed": false
   },
   "outputs": [
    {
     "name": "stdout",
     "output_type": "stream",
     "text": [
      "-1\n",
      "0\n",
      "-1\n"
     ]
    }
   ],
   "source": [
    "def maximise_ton_fun(n, m, piste):\n",
    "    # il s'agit de trouver le chemin le plus long dans un graphe\n",
    "    # la doc pour concernant cet algorithme du chemin le plus long\n",
    "    # se trouve lié avec la doc sur la méthode PERT\n",
    "    # initialisation\n",
    "    # on part de la plateforme 0\n",
    "    plateformeCourante = 0\n",
    "    maxFun = 0\n",
    "    maxFunPotentiel = 0\n",
    "    for i in piste:\n",
    "        if i[\"x\"] == plateformeCourante:\n",
    "            print(i[\"l\"])\n",
    "    maxFun = piste[0][\"l\"]\n",
    "    print (maxFun)\n",
    "\n",
    "\n",
    "maximise_ton_fun(n, m, piste)"
   ]
  }
 ],
 "metadata": {
  "kernelspec": {
   "display_name": "Python 3",
   "language": "python",
   "name": "python3"
  },
  "language_info": {
   "codemirror_mode": {
    "name": "ipython",
    "version": 3
   },
   "file_extension": ".py",
   "mimetype": "text/x-python",
   "name": "python",
   "nbconvert_exporter": "python",
   "pygments_lexer": "ipython3",
   "version": "3.5.2"
  }
 },
 "nbformat": 4,
 "nbformat_minor": 1
}
